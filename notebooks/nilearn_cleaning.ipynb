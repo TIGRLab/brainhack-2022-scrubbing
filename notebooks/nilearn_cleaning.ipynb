{
 "cells": [
  {
   "cell_type": "code",
   "execution_count": 1,
   "id": "68f00226-85f1-44d6-8219-27a9a9195a74",
   "metadata": {},
   "outputs": [],
   "source": [
    "import os\n",
    "from nilearn import image as nimg\n",
    "from nilearn import plotting as nplot\n",
    "#import matplotilb.pyplot as plt\n",
    "import numpy as np\n",
    "import nibabel as nib\n",
    "#%matplotlib inline\n"
   ]
  },
  {
   "cell_type": "markdown",
   "id": "5d6ac7c3-ca36-4756-8af9-97573b482e68",
   "metadata": {},
   "source": [
    "# Setting up for Motion Estimates"
   ]
  },
  {
   "cell_type": "code",
   "execution_count": 2,
   "id": "db68a7cc-b6fc-4a08-bcd5-3d1b21ef9f2f",
   "metadata": {},
   "outputs": [],
   "source": [
    "import pandas as pd"
   ]
  },
  {
   "cell_type": "code",
   "execution_count": 3,
   "id": "035d7796-a55f-479d-a021-026967fcf0bc",
   "metadata": {},
   "outputs": [],
   "source": [
    "fmriprep_dir = '/archive/data/SPINS/pipelines/bids_apps/fmriprep/sub-CMH0001/ses-01/func/'"
   ]
  },
  {
   "cell_type": "code",
   "execution_count": 4,
   "id": "25e3345c-39d4-4bc6-8c88-1c25e7bf0548",
   "metadata": {},
   "outputs": [],
   "source": [
    "#First we'll load in our data and check the shape\n",
    "func_file = nimg.load_img(\"/KIMEL/tigrlab/archive/data/SPINS/pipelines/bids_apps/fmriprep/sub-CMH0001/ses-01/func/sub-CMH0001_ses-01_task-rest_run-1_space-MNI152NLin2009cAsym_desc-preproc_bold.nii.gz\")\n"
   ]
  },
  {
   "cell_type": "code",
   "execution_count": 91,
   "id": "aba7d270-9a87-4dcc-aab2-373a8649713b",
   "metadata": {},
   "outputs": [],
   "source": [
    "dummy_TR = 3\n",
    "func_img = func_file.slicer[:,:,:,dummy_TR:]\n",
    "img_size = func_img.shape\n",
    "signal_img = func_img.get_fdata().reshape(-1,img_size[-1]).T"
   ]
  },
  {
   "cell_type": "code",
   "execution_count": 6,
   "id": "28235bce-e949-4022-a0b6-c0281b2a274c",
   "metadata": {},
   "outputs": [],
   "source": [
    "confounds_file = pd.read_csv(\"/KIMEL/tigrlab/archive/data/SPINS/pipelines/bids_apps/fmriprep/sub-CMH0001/ses-01/func/sub-CMH0001_ses-01_task-rest_run-1_desc-confounds_fixedregressors.tsv\", sep = '\\t')\n",
    "confounds_file_drop = confounds_file.loc[dummy_TR:]\n",
    "confounds_input = confounds_file_drop.values"
   ]
  },
  {
   "cell_type": "code",
   "execution_count": 10,
   "id": "d36ef5df",
   "metadata": {},
   "outputs": [
    {
     "data": {
      "text/plain": [
       "Index(['global_signal', 'global_signal_derivative1',\n",
       "       'global_signal_derivative1_power2', 'global_signal_power2', 'std_dvars',\n",
       "       'dvars', 'framewise_displacement', 't_comp_cor_00', 't_comp_cor_01',\n",
       "       'cosine00',\n",
       "       ...\n",
       "       'a_comp_cor_66_fixed', 'a_comp_cor_67_fixed', 'a_comp_cor_68_fixed',\n",
       "       'a_comp_cor_69_fixed', 'white_matter_derivative1_fixed',\n",
       "       'white_matter_power2_fixed', 'white_matter_derivative1_power2_fixed',\n",
       "       'csf_derivative1_fixed', 'csf_power2_fixed',\n",
       "       'csf_derivative1_power2_fixed'],\n",
       "      dtype='object', length=160)"
      ]
     },
     "execution_count": 10,
     "metadata": {},
     "output_type": "execute_result"
    }
   ],
   "source": [
    "confounds_file_drop.columns"
   ]
  },
  {
   "cell_type": "code",
   "execution_count": 7,
   "id": "5359cd3b-cd18-4ddf-a545-504aad155dbd",
   "metadata": {},
   "outputs": [],
   "source": [
    "mask_file = nib.load(\"/KIMEL/tigrlab/archive/data/SPINS/pipelines/bids_apps/fmriprep/sub-CMH0001/ses-01/func/sub-CMH0001_ses-01_task-rest_run-1_space-MNI152NLin2009cAsym_desc-brain_mask.nii.gz\")"
   ]
  },
  {
   "cell_type": "markdown",
   "id": "798c3d87-ec40-4d44-b083-36a6a2dd2d44",
   "metadata": {
    "tags": []
   },
   "source": [
    "**Without Scrubbing**"
   ]
  },
  {
   "cell_type": "code",
   "execution_count": 8,
   "id": "5ef1f38b-0059-4587-a161-7db9183edab4",
   "metadata": {},
   "outputs": [],
   "source": [
    "#Set some constants\n",
    "high_pass= 0.01\n",
    "low_pass = 0.1\n",
    "t_r = 2\n",
    "\n",
    "#Clean!\n",
    "clean_img = nimg.clean_img(func_img,\n",
    "                           confounds=confounds_input,\n",
    "                           detrend=True,\n",
    "                           standardize=True,\n",
    "                           low_pass=low_pass,\n",
    "                           high_pass=high_pass,\n",
    "                           t_r=t_r,\n",
    "                           mask_img = mask_file)\n"
   ]
  },
  {
   "cell_type": "markdown",
   "id": "6a669e5a-185b-4d78-8111-89876cb16535",
   "metadata": {},
   "source": [
    "**With Scrubbing**"
   ]
  },
  {
   "cell_type": "markdown",
   "id": "05fe3d5c-59b3-4d04-9748-6379f152398b",
   "metadata": {},
   "source": [
    "### Prepare data to create sample_mask\n",
    "\n",
    "We can use `_optimize_scrub` to generate the sample_mask file.\n",
    "The `_optimize_scrub` takes three inputs:\n",
    "1) motion_outlier_index: the vector of indices of TR that exceed the motion threshold\n",
    "2) n_scans: the number of total TR\n",
    "3) scrub: the maximum length of the island (scans between two sets of scrubbed TRs) that will be removed\n",
    "\n",
    "These information can be retrived from the confound file. In SPINS, they are stored in column named `framewise_displacement`."
   ]
  },
  {
   "cell_type": "code",
   "execution_count": 14,
   "id": "c03bbccf",
   "metadata": {},
   "outputs": [
    {
     "name": "stdout",
     "output_type": "stream",
     "text": [
      "4      0.103907\n",
      "5      0.090418\n",
      "6      0.109402\n",
      "7      0.061870\n",
      "8      0.076143\n",
      "         ...   \n",
      "207    0.301278\n",
      "208    0.116285\n",
      "209    0.114447\n",
      "210    0.104337\n",
      "211    0.057574\n",
      "Name: framewise_displacement, Length: 208, dtype: float64\n"
     ]
    }
   ],
   "source": [
    "# Extract FD\n",
    "all_FD = confounds_file_drop['framewise_displacement']"
   ]
  },
  {
   "cell_type": "code",
   "execution_count": 29,
   "id": "6d3fd523",
   "metadata": {},
   "outputs": [],
   "source": [
    "# Set arguments\n",
    "## Threshold for motion\n",
    "FD_threshold = 0.5\n",
    "## The arguments for _optimize_scrub\n",
    "motion_outlier_index = np.where(all_FD > FD_threshold)[0]\n",
    "n_scans = len(all_FD)\n",
    "scrubs = 5"
   ]
  },
  {
   "cell_type": "code",
   "execution_count": 81,
   "id": "efcab41e",
   "metadata": {
    "collapsed": true
   },
   "outputs": [
    {
     "data": {
      "text/plain": [
       "array([  0,   1,   2,   3,   4,   5,   6,   7,   8,   9,  10,  11,  12,\n",
       "        13,  14,  15,  16,  17,  18,  19,  20,  21,  22,  23,  24,  25,\n",
       "        26,  27,  28,  29,  30,  31,  32,  33,  34,  35,  36,  37,  38,\n",
       "        39,  40,  41,  42,  43,  44,  45,  46,  47,  48,  49,  50,  51,\n",
       "        52,  53,  54,  55,  56,  57,  58,  59,  60,  61,  62,  63,  64,\n",
       "        65,  66,  67,  68,  69,  70,  71,  72,  73,  74,  75,  76,  77,\n",
       "        78,  81,  82,  83,  84,  85,  86,  87,  88,  89,  90,  91,  92,\n",
       "        93,  94,  95,  96,  97,  98,  99, 100, 101, 102, 103, 104, 105,\n",
       "       106, 107, 108, 109, 110, 111, 112, 113, 114, 115, 116, 117, 118,\n",
       "       119, 120, 121, 122, 123, 124, 125, 126, 127, 128, 129, 130, 131,\n",
       "       132, 133, 137, 138, 139, 140, 141, 143, 144, 145, 146, 147, 148,\n",
       "       149, 150, 151, 152, 153, 154, 155, 156, 159, 160, 161, 162, 163,\n",
       "       164, 165, 166, 167, 168, 169, 170, 171, 172, 173, 174, 175, 176,\n",
       "       177, 178, 179, 180, 181, 182, 183, 184, 185, 186, 187, 188, 189,\n",
       "       190, 191, 192, 193, 194, 195, 196, 197, 198, 199, 200, 201, 202,\n",
       "       203, 204, 205, 206, 207])"
      ]
     },
     "execution_count": 81,
     "metadata": {},
     "output_type": "execute_result"
    }
   ],
   "source": [
    "# Generate the censor_mask\n",
    "from nilearn.interfaces.fmriprep.load_confounds_scrub import _optimize_scrub\n",
    "censor_mask = _optimize_scrub(motion_outlier_index, n_scans, scrubs)\n",
    "\n",
    "# Generate the samplemask\n",
    "ref_vec = set(range(n_scans))\n",
    "censor_idx = set(censor_mask)\n",
    "sample_mask = np.array(sorted(list(ref_vec - censor_idx)))"
   ]
  },
  {
   "cell_type": "code",
   "execution_count": 82,
   "id": "564c20e7-1567-48d0-a45f-6bea4aafd8c6",
   "metadata": {},
   "outputs": [],
   "source": [
    "#Clean with scrubbing!\n",
    "import nilearn\n",
    "clean_img = nilearn.signal.clean(signal_img,\n",
    "                                 confounds=confounds_input,\n",
    "                                 detrend=True,\n",
    "                                 standardize=True,\n",
    "                                 low_pass=low_pass,\n",
    "                                 high_pass=high_pass,\n",
    "                                 t_r=t_r,\n",
    "                                 sample_mask = sample_mask,\n",
    "                                 filter = 'butterworth')\n"
   ]
  },
  {
   "cell_type": "code",
   "execution_count": 117,
   "id": "82e65f0b",
   "metadata": {},
   "outputs": [],
   "source": [
    "# Reshape the image file into an array of the original size\n",
    "clean_img_array = clean_img.T.reshape(*img_size[:-1], len(sample_mask))"
   ]
  },
  {
   "cell_type": "code",
   "execution_count": 113,
   "id": "9626c073",
   "metadata": {},
   "outputs": [],
   "source": [
    "# Save it as a Nifti file\n",
    "clean_img_nifti = nib.Nifti1Image(clean_img_array.astype(np.float64), func_img.affine)\n",
    "nib.save(clean_img_nifti, f'clean_img_test.nii.gz')"
   ]
  }
 ],
 "metadata": {
  "kernelspec": {
   "display_name": "Python 3 (ipykernel)",
   "language": "python",
   "name": "python3"
  },
  "language_info": {
   "codemirror_mode": {
    "name": "ipython",
    "version": 3
   },
   "file_extension": ".py",
   "mimetype": "text/x-python",
   "name": "python",
   "nbconvert_exporter": "python",
   "pygments_lexer": "ipython3",
   "version": "3.8.10"
  }
 },
 "nbformat": 4,
 "nbformat_minor": 5
}
